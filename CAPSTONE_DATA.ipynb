{
 "cells": [
  {
   "cell_type": "markdown",
   "metadata": {},
   "source": [
    "<img src=\"https://fresheropenings.com/wp-content/uploads/2020/05/coursera.png\" width=\"200\">"
   ]
  },
  {
   "cell_type": "markdown",
   "metadata": {},
   "source": [
    "<h1><center>Capstone Project</center></h1>\n",
    "<h2>Data</h2>"
   ]
  },
  {
   "cell_type": "markdown",
   "metadata": {},
   "source": [
    "I collected three different databases storing informations and details of car accidents occurred in UK in 2018. The data was collected using the STATS19 accident reporting form and carried different informations with some redundancy:\n",
    "\n",
    "\n",
    "|Database name|URL|Type of data|Source|\n",
    "|---|---|---|---|\n",
    "|<code>dftRoadSafetyData_Accidents2018</code>|http://data.dft.gov.uk.s3.amazonaws.com/road-accidents-safety-data/dftRoadSafetyData_Accidents_2018.csv | general informations regarding the site of the accident, such as “road conditions”, “light conditions” and “weather conditions”|Department for Transport (GB)\n",
    "|<code>dftRoadSafetyData_Vehicles_2018</code>|http://data.dft.gov.uk.s3.amazonaws.com/road-accidents-safety-data/dftRoadSafetyData_Vehicles_2018.csv | technical info of every vehicle involved in the accident (such as “age”, “type of vehicle”, “engine capacity”...), but also of the driver (like band of age and IMD decile) | Department for Transport (GB)\n",
    "|<code>dftRoadSafetyData_Casualties_2018</code>|http://data.dft.gov.uk.s3.amazonaws.com/road-accidents-safety-data/dftRoadSafetyData_Casualties_2018.csv| data corresponding to individual informations of the casualties such as \"sex”, “severity”, “age”, “role at the moment of the accident” (driver, passenger or pedestrian)|Department for Transport (GB)\n",
    "\n",
    "The 2019 dataset contained records not older than June, so, to avoid incomplete data or bias due to the absence of variables linked to a given season, I decided to use the 2018 dataset instead. Another implicit assumption of my choice was that statistics of car accidents sampled every year should be very similar to the ones sampled in the same decade. For this reason, the reliability of the model should also be checked in the long term.\n"
   ]
  },
  {
   "cell_type": "markdown",
   "metadata": {},
   "source": [
    "The three database have important informations that, in the light of the questions I need to ask, could be defined as *complementary* between each other. In order to build a good model and to address the problems described in the introduction, I need to include different kind of parameters that may deeply affect the probability that a serious accident will take place. In particular, I have identified four main feature classes:\n",
    "\n",
    "1. Natural factors: they can deeply decrease road safety, independently of the driver's skills, and are not always  predictable. Even if largely anticipated, the human intervention aimed to counteract them can be very limited, and is therefore restricted to road maintenance and safer traffic rules (e.g. lower speed limits)\n",
    "2. Human factor: Despite ideal road and weather conditions, distractions, progressive deterioration of driving skills due to ageing and inexperience can be determinant in causing a serious accident\n",
    "3. Technical factor: all the factors linked to the proper working of the means of transport (\"vehicle age\", \"vehicle type''...) their characteristics (\"engine capacity\", \"propulsion code''  etc.) or the road configuration (\"urban/rural location'', \"road surface condition\" etc.).\n",
    "4. Dynamic factor: all the factors related to the car accident dynamic (slippery of the car/motorcycle, points of impact, role of the person involved...).\n",
    "\n",
    "As stated previously, the principal aim of the project is to individuate, if possible, a general strategy for decreasing the occurrence of severe or fatal car accidents in the UK (which, instead, is increasing year on year[1]). Considering the huge social and economic burden deriving from it, the priority is given to the fatal and severe ones. The nature of the factors influencing the probability that a severe or fatal car accident manifests is heterogeneous: weather can't be controlled, and the ageing process can't be stopped, but a lower speed limit and more restriction in terms of driving licence renewal can make the difference.\n",
    "Then, the next step is to select all the features that are directly and indirectly related to all the possible field of intervention. Ideally, the selected features (showed in the table below) would be equally representative of the four different domains previously described.\n"
   ]
  },
  {
   "cell_type": "markdown",
   "metadata": {},
   "source": [
    "|Feature|Dataset|Class|Reason for inclusion in the model|\n",
    "|---|---|---|---|\n",
    "| Vehicle type |Data Vehicles 2018|Technical factor | Different vehicles can show different accident risk|\n",
    "| Skidding and Overturning |Data Vehicles 2018|Dynamic factor | Can be a proxy of bad road conditions or weather conditions|\n",
    "| First point of impact |Data Vehicles 2018|Dynamic factor | Frontal impacts can be different in the severity if compared to back impacts (reachable speed is different)|\n",
    "| Engine Capacity |Data Vehicles 2018|Technical factor | For each vehicle category, is a proxy of the engine size and therefore of the vehicle weight|\n",
    "| Age-band of Driver |Data Vehicles 2018|Human factor | Young and old age driver could show higher accident risk|\n",
    "| Age of Vehicle |Data Vehicles 2018|Technical factor | Can highly affect accident occurrence and gravity|\n",
    "| Sex of driver |Data Vehicles 2018|Human factor | Data needs to be checked for this important factor|\n",
    "| Casualty class |Data Casualties 2018|Dynamic factor | Allows distinction in accidents with/without pedestrians|\n",
    "| Speed limit |Data Casualties 2018|Dynamic factor | Proportional to the road-associated risk|\n",
    "| Junction detail |Data Accidents 2018|Technical factor | Can highly affect accident severity|\n",
    "| Light Conditions |Data Accidents 2018|Dynamic factor | Affecting visibility and therefore accident risk; is a mixed feature because depends on natural and artifical light|\n",
    "| Weather conditions |Data Accidents 2018|Natural factor | Can highly affect accident risk|\n",
    "| Urban or rural area |Data Accidents 2018|Dynamic factor | Influencing vehicle density and other factors|"
   ]
  },
  {
   "cell_type": "markdown",
   "metadata": {},
   "source": [
    "<h3>References</h3>"
   ]
  },
  {
   "cell_type": "markdown",
   "metadata": {},
   "source": [
    "[1] A.Dhani,D.Robineau. \"*Reported road casualties in great britain: provisional estimates year ending June*\" 2019 (2018)"
   ]
  },
  {
   "cell_type": "code",
   "execution_count": null,
   "metadata": {},
   "outputs": [],
   "source": []
  }
 ],
 "metadata": {
  "kernelspec": {
   "display_name": "Python 3",
   "language": "python",
   "name": "python3"
  },
  "language_info": {
   "codemirror_mode": {
    "name": "ipython",
    "version": 3
   },
   "file_extension": ".py",
   "mimetype": "text/x-python",
   "name": "python",
   "nbconvert_exporter": "python",
   "pygments_lexer": "ipython3",
   "version": "3.7.7"
  }
 },
 "nbformat": 4,
 "nbformat_minor": 4
}
