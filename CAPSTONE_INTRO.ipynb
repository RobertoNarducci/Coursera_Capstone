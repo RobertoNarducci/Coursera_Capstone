{
 "cells": [
  {
   "cell_type": "markdown",
   "metadata": {},
   "source": [
    "<img src=\"https://fresheropenings.com/wp-content/uploads/2020/05/coursera.png\" width=\"200\">"
   ]
  },
  {
   "cell_type": "markdown",
   "metadata": {},
   "source": [
    "<h1><center>Capstone Project</center></h1>\n",
    "<h2>Background</h2>"
   ]
  },
  {
   "cell_type": "markdown",
   "metadata": {},
   "source": [
    "Street accidents are part of the major public health problems in the world, affecting both economically developed and developing country. The association with high rates of mortality and morbidity is strong and it translates into a huge economic burden for society. If we have a look at middle- and high-income countries, the striking difference is that, although the number of vehicles involved in accidents is globally the same, low-income countries represent $80\\%$ of the total deaths, while the latter only the $7\\%$. Of course, strict regulation of driving rules and the process of accurate street maintenance aimed to mitigate the number and the gravity of accidents  didn't start immediately, but as the number of vehicles per person increased and the society became very interconnected. Not only middle-income countries have more limited resources to put into safer infrastructures, but their society is continuously changing at a a speed that most of high-income countries reached only in the past. However, beside a safer way to design streets and other structures, the *human factor* seems to be the most prominent risk factor: the World Health Organization indeed stated that: <blockquote>Strong policies and enforcement, smart road design, and powerful public awareness campaigns can save millions of lives over the coming decades.[1]</blockquote>\n",
    "\n",
    "Despite being one of the safer country in Europe regarding the number of deaths of car accidents over the population, the UK is interested in further decreasing road casualties. Unfortunately, the EU budget for road safety measures has been cut significantly in recent years[2], so this big resources limitation requires to understand the right field of intervention that will lead to the biggest reduction in street causalities.\n",
    "Given this limitation, the initial question that the local authorities and the UK Department of Transport would ask is <blockquote>In which area should we invest more to decrease the economic and social burden caused by streets accidents?</blockquote> Accordingly to the form used to report a street accident (Stats19), its severity can assume three distinct and hierarchical values: \"slight\", \"severe\" and \"fatal\". It is obvious that a fatal accident has more profound an negative consequences than one or more slight accidents. The machine learning model that the stakeholders asked to build should therefore distinguish the three categories (with a gradient of severity) on the basis of a series of features belonging to different domains, so that it would be possible to unravel their relative contribution to the three classes and take appropriate countermeasures.\n",
    "In addition to people working directly in the field of streets safety, this model could be useful also for insurance companies, hospitals and regional administrators: knowing if fatal or severe accidents happens more frequently in rural areas (and if this feature is very \"important\" for correctly predicting fatal or severe accidents) translates into a less centralized system of street-rescue and in an increment of hospital services located far from big cities; vehicle- and life-insurance policies should also be revised accordingly to the new risk factors individuated.\n"
   ]
  },
  {
   "cell_type": "markdown",
   "metadata": {},
   "source": [
    "<h3>References</h3>\n",
    "[1] WHO, Global status report on road safety 2018. (2019)\n",
    "\n",
    "[2] European Transport Safety Council, *EU funds for road safety multi-annual financial framework 2014-2020 saving lives on eu roads until 2020*. (2019)"
   ]
  },
  {
   "cell_type": "code",
   "execution_count": null,
   "metadata": {},
   "outputs": [],
   "source": []
  }
 ],
 "metadata": {
  "kernelspec": {
   "display_name": "Python 3",
   "language": "python",
   "name": "python3"
  },
  "language_info": {
   "codemirror_mode": {
    "name": "ipython",
    "version": 3
   },
   "file_extension": ".py",
   "mimetype": "text/x-python",
   "name": "python",
   "nbconvert_exporter": "python",
   "pygments_lexer": "ipython3",
   "version": "3.7.7"
  }
 },
 "nbformat": 4,
 "nbformat_minor": 4
}
